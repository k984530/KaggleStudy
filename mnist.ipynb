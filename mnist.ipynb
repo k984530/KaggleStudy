{
 "cells": [
  {
   "cell_type": "code",
   "execution_count": 1,
   "id": "4e088694",
   "metadata": {
    "_cell_guid": "b1076dfc-b9ad-4769-8c92-a6c4dae69d19",
    "_uuid": "8f2839f25d086af736a60e9eeb907d3b93b6e0e5",
    "execution": {
     "iopub.execute_input": "2022-08-27T09:59:43.834896Z",
     "iopub.status.busy": "2022-08-27T09:59:43.834281Z",
     "iopub.status.idle": "2022-08-27T09:59:43.843760Z",
     "shell.execute_reply": "2022-08-27T09:59:43.843152Z"
    },
    "papermill": {
     "duration": 0.024315,
     "end_time": "2022-08-27T09:59:43.845446",
     "exception": false,
     "start_time": "2022-08-27T09:59:43.821131",
     "status": "completed"
    },
    "tags": []
   },
   "outputs": [],
   "source": [
    "import numpy as np\n",
    "import pandas as pd\n",
    "import os"
   ]
  },
  {
   "cell_type": "code",
   "execution_count": 2,
   "id": "3f6b6aa6",
   "metadata": {
    "execution": {
     "iopub.execute_input": "2022-08-27T09:59:43.870277Z",
     "iopub.status.busy": "2022-08-27T09:59:43.869798Z",
     "iopub.status.idle": "2022-08-27T10:00:35.706536Z",
     "shell.execute_reply": "2022-08-27T10:00:35.705872Z"
    },
    "papermill": {
     "duration": 51.864497,
     "end_time": "2022-08-27T10:00:35.721343",
     "exception": false,
     "start_time": "2022-08-27T09:59:43.856846",
     "status": "completed"
    },
    "tags": []
   },
   "outputs": [
    {
     "data": {
      "text/plain": [
       "dict_keys(['data', 'target', 'frame', 'categories', 'feature_names', 'target_names', 'DESCR', 'details', 'url'])"
      ]
     },
     "execution_count": 2,
     "metadata": {},
     "output_type": "execute_result"
    }
   ],
   "source": [
    "from sklearn.datasets import fetch_openml\n",
    "mnist = fetch_openml('mnist_784', version=1)\n",
    "mnist.keys()"
   ]
  },
  {
   "cell_type": "code",
   "execution_count": 3,
   "id": "25fa328e",
   "metadata": {
    "execution": {
     "iopub.execute_input": "2022-08-27T10:00:35.744314Z",
     "iopub.status.busy": "2022-08-27T10:00:35.743584Z",
     "iopub.status.idle": "2022-08-27T10:00:35.748356Z",
     "shell.execute_reply": "2022-08-27T10:00:35.747531Z"
    },
    "papermill": {
     "duration": 0.018212,
     "end_time": "2022-08-27T10:00:35.750386",
     "exception": false,
     "start_time": "2022-08-27T10:00:35.732174",
     "status": "completed"
    },
    "tags": []
   },
   "outputs": [
    {
     "name": "stdout",
     "output_type": "stream",
     "text": [
      "(70000, 784) (70000,)\n"
     ]
    }
   ],
   "source": [
    "X, y = mnist['data'], mnist['target']\n",
    "print(X.shape, y.shape)"
   ]
  },
  {
   "cell_type": "code",
   "execution_count": 4,
   "id": "5af05289",
   "metadata": {
    "execution": {
     "iopub.execute_input": "2022-08-27T10:00:35.773544Z",
     "iopub.status.busy": "2022-08-27T10:00:35.772922Z",
     "iopub.status.idle": "2022-08-27T10:00:35.840291Z",
     "shell.execute_reply": "2022-08-27T10:00:35.839703Z"
    },
    "papermill": {
     "duration": 0.082067,
     "end_time": "2022-08-27T10:00:35.843346",
     "exception": false,
     "start_time": "2022-08-27T10:00:35.761279",
     "status": "completed"
    },
    "tags": []
   },
   "outputs": [
    {
     "data": {
      "image/png": "[encoded data removed]",
      "text/plain": [
       "<Figure size 432x288 with 1 Axes>"
      ]
     },
     "metadata": {
      "needs_background": "light"
     },
     "output_type": "display_data"
    }
   ],
   "source": [
    "import matplotlib as mpl\n",
    "import matplotlib.pyplot as plt\n",
    "\n",
    "some_digit = X.iloc[0,:].to_numpy()\n",
    "some_digit_image = some_digit.reshape(28, 28)\n",
    "\n",
    "plt.imshow(some_digit_image, cmap='binary')\n",
    "plt.axis('off')\n",
    "plt.show()"
   ]
  },
  {
   "cell_type": "code",
   "execution_count": 5,
   "id": "a41ca8e5",
   "metadata": {
    "execution": {
     "iopub.execute_input": "2022-08-27T10:00:35.903155Z",
     "iopub.status.busy": "2022-08-27T10:00:35.902119Z",
     "iopub.status.idle": "2022-08-27T10:00:35.910927Z",
     "shell.execute_reply": "2022-08-27T10:00:35.909717Z"
    },
    "papermill": {
     "duration": 0.042041,
     "end_time": "2022-08-27T10:00:35.914208",
     "exception": false,
     "start_time": "2022-08-27T10:00:35.872167",
     "status": "completed"
    },
    "tags": []
   },
   "outputs": [
    {
     "data": {
      "text/plain": [
       "'5'"
      ]
     },
     "execution_count": 5,
     "metadata": {},
     "output_type": "execute_result"
    }
   ],
   "source": [
    "y[0]"
   ]
  },
  {
   "cell_type": "code",
   "execution_count": 6,
   "id": "1512ea41",
   "metadata": {
    "execution": {
     "iopub.execute_input": "2022-08-27T10:00:35.941205Z",
     "iopub.status.busy": "2022-08-27T10:00:35.940722Z",
     "iopub.status.idle": "2022-08-27T10:00:35.944954Z",
     "shell.execute_reply": "2022-08-27T10:00:35.944338Z"
    },
    "papermill": {
     "duration": 0.017434,
     "end_time": "2022-08-27T10:00:35.946628",
     "exception": false,
     "start_time": "2022-08-27T10:00:35.929194",
     "status": "completed"
    },
    "tags": []
   },
   "outputs": [],
   "source": [
    "y = y.astype(np.uint8)"
   ]
  },
  {
   "cell_type": "code",
   "execution_count": 7,
   "id": "04bdc35b",
   "metadata": {
    "execution": {
     "iopub.execute_input": "2022-08-27T10:00:35.969117Z",
     "iopub.status.busy": "2022-08-27T10:00:35.968660Z",
     "iopub.status.idle": "2022-08-27T10:00:35.972428Z",
     "shell.execute_reply": "2022-08-27T10:00:35.971793Z"
    },
    "papermill": {
     "duration": 0.017603,
     "end_time": "2022-08-27T10:00:35.974792",
     "exception": false,
     "start_time": "2022-08-27T10:00:35.957189",
     "status": "completed"
    },
    "tags": []
   },
   "outputs": [],
   "source": [
    "X_train, X_test, y_train, y_test = X[:60000], X[60000:], y[:60000], y[60000:]"
   ]
  },
  {
   "cell_type": "code",
   "execution_count": 8,
   "id": "9524cb79",
   "metadata": {
    "execution": {
     "iopub.execute_input": "2022-08-27T10:00:35.999968Z",
     "iopub.status.busy": "2022-08-27T10:00:35.999516Z",
     "iopub.status.idle": "2022-08-27T10:00:36.003229Z",
     "shell.execute_reply": "2022-08-27T10:00:36.002619Z"
    },
    "papermill": {
     "duration": 0.017165,
     "end_time": "2022-08-27T10:00:36.004872",
     "exception": false,
     "start_time": "2022-08-27T10:00:35.987707",
     "status": "completed"
    },
    "tags": []
   },
   "outputs": [],
   "source": [
    "y_train_5 = (y_train == 5)\n",
    "y_test_5 = (y_test == 5)"
   ]
  },
  {
   "cell_type": "code",
   "execution_count": 9,
   "id": "be04db91",
   "metadata": {
    "execution": {
     "iopub.execute_input": "2022-08-27T10:00:36.027453Z",
     "iopub.status.busy": "2022-08-27T10:00:36.026991Z",
     "iopub.status.idle": "2022-08-27T10:00:56.378232Z",
     "shell.execute_reply": "2022-08-27T10:00:56.377189Z"
    },
    "papermill": {
     "duration": 20.365397,
     "end_time": "2022-08-27T10:00:56.381118",
     "exception": false,
     "start_time": "2022-08-27T10:00:36.015721",
     "status": "completed"
    },
    "tags": []
   },
   "outputs": [
    {
     "data": {
      "text/plain": [
       "SGDClassifier(random_state=42)"
      ]
     },
     "execution_count": 9,
     "metadata": {},
     "output_type": "execute_result"
    }
   ],
   "source": [
    "from sklearn.linear_model import SGDClassifier\n",
    "\n",
    "sgd_clf = SGDClassifier(random_state=42)\n",
    "sgd_clf.fit(X_train, y_train_5)"
   ]
  },
  {
   "cell_type": "code",
   "execution_count": 10,
   "id": "fd87761a",
   "metadata": {
    "execution": {
     "iopub.execute_input": "2022-08-27T10:00:56.405232Z",
     "iopub.status.busy": "2022-08-27T10:00:56.404891Z",
     "iopub.status.idle": "2022-08-27T10:00:56.415366Z",
     "shell.execute_reply": "2022-08-27T10:00:56.414140Z"
    },
    "papermill": {
     "duration": 0.024169,
     "end_time": "2022-08-27T10:00:56.417226",
     "exception": false,
     "start_time": "2022-08-27T10:00:56.393057",
     "status": "completed"
    },
    "tags": []
   },
   "outputs": [
    {
     "name": "stderr",
     "output_type": "stream",
     "text": [
      "/opt/conda/lib/python3.7/site-packages/sklearn/base.py:451: UserWarning: X does not have valid feature names, but SGDClassifier was fitted with feature names\n",
      "  \"X does not have valid feature names, but\"\n"
     ]
    },
    {
     "data": {
      "text/plain": [
       "array([ True])"
      ]
     },
     "execution_count": 10,
     "metadata": {},
     "output_type": "execute_result"
    }
   ],
   "source": [
    "sgd_clf.predict([some_digit])"
   ]
  },
  {
   "cell_type": "code",
   "execution_count": 11,
   "id": "2b737b6d",
   "metadata": {
    "execution": {
     "iopub.execute_input": "2022-08-27T10:00:56.440448Z",
     "iopub.status.busy": "2022-08-27T10:00:56.440138Z",
     "iopub.status.idle": "2022-08-27T10:00:56.467261Z",
     "shell.execute_reply": "2022-08-27T10:00:56.466396Z"
    },
    "papermill": {
     "duration": 0.040789,
     "end_time": "2022-08-27T10:00:56.469118",
     "exception": false,
     "start_time": "2022-08-27T10:00:56.428329",
     "status": "completed"
    },
    "tags": []
   },
   "outputs": [
    {
     "data": {
      "text/html": [
       "<div>\n",
       "<style scoped>\n",
       "    .dataframe tbody tr th:only-of-type {\n",
       "        vertical-align: middle;\n",
       "    }\n",
       "\n",
       "    .dataframe tbody tr th {\n",
       "        vertical-align: top;\n",
       "    }\n",
       "\n",
       "    .dataframe thead th {\n",
       "        text-align: right;\n",
       "    }\n",
       "</style>\n",
       "<table border=\"1\" class=\"dataframe\">\n",
       "  <thead>\n",
       "    <tr style=\"text-align: right;\">\n",
       "      <th></th>\n",
       "      <th>pixel1</th>\n",
       "      <th>pixel2</th>\n",
       "      <th>pixel3</th>\n",
       "      <th>pixel4</th>\n",
       "      <th>pixel5</th>\n",
       "      <th>pixel6</th>\n",
       "      <th>pixel7</th>\n",
       "      <th>pixel8</th>\n",
       "      <th>pixel9</th>\n",
       "      <th>pixel10</th>\n",
       "      <th>...</th>\n",
       "      <th>pixel775</th>\n",
       "      <th>pixel776</th>\n",
       "      <th>pixel777</th>\n",
       "      <th>pixel778</th>\n",
       "      <th>pixel779</th>\n",
       "      <th>pixel780</th>\n",
       "      <th>pixel781</th>\n",
       "      <th>pixel782</th>\n",
       "      <th>pixel783</th>\n",
       "      <th>pixel784</th>\n",
       "    </tr>\n",
       "  </thead>\n",
       "  <tbody>\n",
       "    <tr>\n",
       "      <th>1</th>\n",
       "      <td>0.0</td>\n",
       "      <td>0.0</td>\n",
       "      <td>0.0</td>\n",
       "      <td>0.0</td>\n",
       "      <td>0.0</td>\n",
       "      <td>0.0</td>\n",
       "      <td>0.0</td>\n",
       "      <td>0.0</td>\n",
       "      <td>0.0</td>\n",
       "      <td>0.0</td>\n",
       "      <td>...</td>\n",
       "      <td>0.0</td>\n",
       "      <td>0.0</td>\n",
       "      <td>0.0</td>\n",
       "      <td>0.0</td>\n",
       "      <td>0.0</td>\n",
       "      <td>0.0</td>\n",
       "      <td>0.0</td>\n",
       "      <td>0.0</td>\n",
       "      <td>0.0</td>\n",
       "      <td>0.0</td>\n",
       "    </tr>\n",
       "    <tr>\n",
       "      <th>2</th>\n",
       "      <td>0.0</td>\n",
       "      <td>0.0</td>\n",
       "      <td>0.0</td>\n",
       "      <td>0.0</td>\n",
       "      <td>0.0</td>\n",
       "      <td>0.0</td>\n",
       "      <td>0.0</td>\n",
       "      <td>0.0</td>\n",
       "      <td>0.0</td>\n",
       "      <td>0.0</td>\n",
       "      <td>...</td>\n",
       "      <td>0.0</td>\n",
       "      <td>0.0</td>\n",
       "      <td>0.0</td>\n",
       "      <td>0.0</td>\n",
       "      <td>0.0</td>\n",
       "      <td>0.0</td>\n",
       "      <td>0.0</td>\n",
       "      <td>0.0</td>\n",
       "      <td>0.0</td>\n",
       "      <td>0.0</td>\n",
       "    </tr>\n",
       "    <tr>\n",
       "      <th>3</th>\n",
       "      <td>0.0</td>\n",
       "      <td>0.0</td>\n",
       "      <td>0.0</td>\n",
       "      <td>0.0</td>\n",
       "      <td>0.0</td>\n",
       "      <td>0.0</td>\n",
       "      <td>0.0</td>\n",
       "      <td>0.0</td>\n",
       "      <td>0.0</td>\n",
       "      <td>0.0</td>\n",
       "      <td>...</td>\n",
       "      <td>0.0</td>\n",
       "      <td>0.0</td>\n",
       "      <td>0.0</td>\n",
       "      <td>0.0</td>\n",
       "      <td>0.0</td>\n",
       "      <td>0.0</td>\n",
       "      <td>0.0</td>\n",
       "      <td>0.0</td>\n",
       "      <td>0.0</td>\n",
       "      <td>0.0</td>\n",
       "    </tr>\n",
       "  </tbody>\n",
       "</table>\n",
       "<p>3 rows × 784 columns</p>\n",
       "</div>"
      ],
      "text/plain": [
       "   pixel1  pixel2  pixel3  pixel4  pixel5  pixel6  pixel7  pixel8  pixel9  \\\n",
       "1     0.0     0.0     0.0     0.0     0.0     0.0     0.0     0.0     0.0   \n",
       "2     0.0     0.0     0.0     0.0     0.0     0.0     0.0     0.0     0.0   \n",
       "3     0.0     0.0     0.0     0.0     0.0     0.0     0.0     0.0     0.0   \n",
       "\n",
       "   pixel10  ...  pixel775  pixel776  pixel777  pixel778  pixel779  pixel780  \\\n",
       "1      0.0  ...       0.0       0.0       0.0       0.0       0.0       0.0   \n",
       "2      0.0  ...       0.0       0.0       0.0       0.0       0.0       0.0   \n",
       "3      0.0  ...       0.0       0.0       0.0       0.0       0.0       0.0   \n",
       "\n",
       "   pixel781  pixel782  pixel783  pixel784  \n",
       "1       0.0       0.0       0.0       0.0  \n",
       "2       0.0       0.0       0.0       0.0  \n",
       "3       0.0       0.0       0.0       0.0  \n",
       "\n",
       "[3 rows x 784 columns]"
      ]
     },
     "execution_count": 11,
     "metadata": {},
     "output_type": "execute_result"
    }
   ],
   "source": [
    "X_train.iloc[[1,2,3]]"
   ]
  },
  {
   "cell_type": "code",
   "execution_count": 12,
   "id": "9ec28983",
   "metadata": {
    "execution": {
     "iopub.execute_input": "2022-08-27T10:00:56.493071Z",
     "iopub.status.busy": "2022-08-27T10:00:56.492800Z",
     "iopub.status.idle": "2022-08-27T10:01:30.212345Z",
     "shell.execute_reply": "2022-08-27T10:01:30.202719Z"
    },
    "papermill": {
     "duration": 33.758591,
     "end_time": "2022-08-27T10:01:30.239224",
     "exception": false,
     "start_time": "2022-08-27T10:00:56.480633",
     "status": "completed"
    },
    "tags": []
   },
   "outputs": [
    {
     "name": "stdout",
     "output_type": "stream",
     "text": [
      "0.9669\n",
      "0.91625\n",
      "0.96785\n"
     ]
    }
   ],
   "source": [
    "from sklearn.model_selection import StratifiedKFold\n",
    "from sklearn.base import clone\n",
    "\n",
    "skfolds = StratifiedKFold(n_splits=3, random_state=42, shuffle = True)\n",
    "\n",
    "for train_index, test_index in skfolds.split(X_train, y_train_5):\n",
    "    clone_clf = clone(sgd_clf)\n",
    "    X_train_folds = X_train.iloc[train_index]\n",
    "    y_train_folds = y_train_5.iloc[train_index]\n",
    "    X_test_fold = X_train.iloc[test_index]\n",
    "    y_test_fold = y_train_5.iloc[test_index]\n",
    "    \n",
    "    clone_clf.fit(X_train_folds, y_train_folds)\n",
    "    y_pred = clone_clf.predict(X_test_fold)\n",
    "    n_correct = sum(y_pred == y_test_fold)\n",
    "    print(n_correct / len(y_pred))"
   ]
  },
  {
   "cell_type": "code",
   "execution_count": 13,
   "id": "6329d9c7",
   "metadata": {
    "execution": {
     "iopub.execute_input": "2022-08-27T10:01:30.301865Z",
     "iopub.status.busy": "2022-08-27T10:01:30.301326Z",
     "iopub.status.idle": "2022-08-27T10:01:57.636545Z",
     "shell.execute_reply": "2022-08-27T10:01:57.635582Z"
    },
    "papermill": {
     "duration": 27.370332,
     "end_time": "2022-08-27T10:01:57.640156",
     "exception": false,
     "start_time": "2022-08-27T10:01:30.269824",
     "status": "completed"
    },
    "tags": []
   },
   "outputs": [
    {
     "data": {
      "text/plain": [
       "array([0.95035, 0.96035, 0.9604 ])"
      ]
     },
     "execution_count": 13,
     "metadata": {},
     "output_type": "execute_result"
    }
   ],
   "source": [
    "from sklearn.model_selection import cross_val_score\n",
    "cross_val_score(sgd_clf, X_train, y_train_5, cv=3, scoring='accuracy')"
   ]
  },
  {
   "cell_type": "code",
   "execution_count": 14,
   "id": "86c47671",
   "metadata": {
    "execution": {
     "iopub.execute_input": "2022-08-27T10:01:57.702650Z",
     "iopub.status.busy": "2022-08-27T10:01:57.702104Z",
     "iopub.status.idle": "2022-08-27T10:01:57.713284Z",
     "shell.execute_reply": "2022-08-27T10:01:57.712138Z"
    },
    "papermill": {
     "duration": 0.046054,
     "end_time": "2022-08-27T10:01:57.716831",
     "exception": false,
     "start_time": "2022-08-27T10:01:57.670777",
     "status": "completed"
    },
    "tags": []
   },
   "outputs": [],
   "source": [
    "from sklearn.base import BaseEstimator\n",
    "\n",
    "class Never5Classifier(BaseEstimator):\n",
    "    def fit(self, X, y=None):\n",
    "        return self\n",
    "    def predict(self, X):\n",
    "        return np.zeros((len(X), 1), dtype=bool)"
   ]
  },
  {
   "cell_type": "code",
   "execution_count": 15,
   "id": "d7f34072",
   "metadata": {
    "execution": {
     "iopub.execute_input": "2022-08-27T10:01:57.759363Z",
     "iopub.status.busy": "2022-08-27T10:01:57.759089Z",
     "iopub.status.idle": "2022-08-27T10:01:58.330397Z",
     "shell.execute_reply": "2022-08-27T10:01:58.329270Z"
    },
    "papermill": {
     "duration": 0.585786,
     "end_time": "2022-08-27T10:01:58.332603",
     "exception": false,
     "start_time": "2022-08-27T10:01:57.746817",
     "status": "completed"
    },
    "tags": []
   },
   "outputs": [
    {
     "data": {
      "text/plain": [
       "array([0.91125, 0.90855, 0.90915])"
      ]
     },
     "execution_count": 15,
     "metadata": {},
     "output_type": "execute_result"
    }
   ],
   "source": [
    "never_5_clf = Never5Classifier()\n",
    "cross_val_score(never_5_clf, X_train, y_train_5, cv = 3, scoring = 'accuracy')"
   ]
  },
  {
   "cell_type": "code",
   "execution_count": 16,
   "id": "3ebe85c7",
   "metadata": {
    "execution": {
     "iopub.execute_input": "2022-08-27T10:01:58.357429Z",
     "iopub.status.busy": "2022-08-27T10:01:58.357157Z",
     "iopub.status.idle": "2022-08-27T10:02:25.655335Z",
     "shell.execute_reply": "2022-08-27T10:02:25.654033Z"
    },
    "papermill": {
     "duration": 27.31459,
     "end_time": "2022-08-27T10:02:25.659222",
     "exception": false,
     "start_time": "2022-08-27T10:01:58.344632",
     "status": "completed"
    },
    "tags": []
   },
   "outputs": [],
   "source": [
    "from sklearn.model_selection import cross_val_predict\n",
    "\n",
    "y_train_pred = cross_val_predict(sgd_clf, X_train, y_train_5, cv=3)"
   ]
  },
  {
   "cell_type": "code",
   "execution_count": 17,
   "id": "ff7c3330",
   "metadata": {
    "execution": {
     "iopub.execute_input": "2022-08-27T10:02:25.724339Z",
     "iopub.status.busy": "2022-08-27T10:02:25.723758Z",
     "iopub.status.idle": "2022-08-27T10:02:25.754269Z",
     "shell.execute_reply": "2022-08-27T10:02:25.753120Z"
    },
    "papermill": {
     "duration": 0.066628,
     "end_time": "2022-08-27T10:02:25.757886",
     "exception": false,
     "start_time": "2022-08-27T10:02:25.691258",
     "status": "completed"
    },
    "tags": []
   },
   "outputs": [
    {
     "data": {
      "text/plain": [
       "array([[53892,   687],\n",
       "       [ 1891,  3530]])"
      ]
     },
     "execution_count": 17,
     "metadata": {},
     "output_type": "execute_result"
    }
   ],
   "source": [
    "from sklearn.metrics import confusion_matrix\n",
    "confusion_matrix(y_train_5, y_train_pred)"
   ]
  },
  {
   "cell_type": "code",
   "execution_count": 18,
   "id": "6660930e",
   "metadata": {
    "execution": {
     "iopub.execute_input": "2022-08-27T10:02:25.790814Z",
     "iopub.status.busy": "2022-08-27T10:02:25.790419Z",
     "iopub.status.idle": "2022-08-27T10:02:25.803804Z",
     "shell.execute_reply": "2022-08-27T10:02:25.803106Z"
    },
    "papermill": {
     "duration": 0.027419,
     "end_time": "2022-08-27T10:02:25.805617",
     "exception": false,
     "start_time": "2022-08-27T10:02:25.778198",
     "status": "completed"
    },
    "tags": []
   },
   "outputs": [
    {
     "data": {
      "text/plain": [
       "array([[54579,     0],\n",
       "       [    0,  5421]])"
      ]
     },
     "execution_count": 18,
     "metadata": {},
     "output_type": "execute_result"
    }
   ],
   "source": [
    "y_train_perfect_predictions = y_train_5\n",
    "confusion_matrix(y_train_5, y_train_perfect_predictions)"
   ]
  },
  {
   "cell_type": "markdown",
   "id": "5f591235",
   "metadata": {
    "papermill": {
     "duration": 0.011868,
     "end_time": "2022-08-27T10:02:25.829191",
     "exception": false,
     "start_time": "2022-08-27T10:02:25.817323",
     "status": "completed"
    },
    "tags": []
   },
   "source": [
    "## 정밀도와 재현율\n",
    "정밀도 -> 예측기의 양성 중에서 실제 양성 비율  \n",
    "재현율 -> 실제 양성중에서 예측기가 찾아낸 양성 비율"
   ]
  },
  {
   "cell_type": "code",
   "execution_count": 19,
   "id": "e036ced6",
   "metadata": {
    "execution": {
     "iopub.execute_input": "2022-08-27T10:02:25.855691Z",
     "iopub.status.busy": "2022-08-27T10:02:25.855137Z",
     "iopub.status.idle": "2022-08-27T10:02:25.895261Z",
     "shell.execute_reply": "2022-08-27T10:02:25.893995Z"
    },
    "papermill": {
     "duration": 0.055765,
     "end_time": "2022-08-27T10:02:25.897163",
     "exception": false,
     "start_time": "2022-08-27T10:02:25.841398",
     "status": "completed"
    },
    "tags": []
   },
   "outputs": [
    {
     "name": "stdout",
     "output_type": "stream",
     "text": [
      "정확도 :  0.8370879772350012\n",
      "재현율 :  0.6511713705958311\n"
     ]
    }
   ],
   "source": [
    "from sklearn.metrics import precision_score, recall_score\n",
    "print('정확도 : ',precision_score(y_train_5, y_train_pred))\n",
    "print('재현율 : ',recall_score(y_train_5, y_train_pred))"
   ]
  },
  {
   "cell_type": "code",
   "execution_count": 20,
   "id": "2bd1cc6e",
   "metadata": {
    "execution": {
     "iopub.execute_input": "2022-08-27T10:02:25.921792Z",
     "iopub.status.busy": "2022-08-27T10:02:25.921496Z",
     "iopub.status.idle": "2022-08-27T10:02:25.943321Z",
     "shell.execute_reply": "2022-08-27T10:02:25.942477Z"
    },
    "papermill": {
     "duration": 0.036275,
     "end_time": "2022-08-27T10:02:25.945191",
     "exception": false,
     "start_time": "2022-08-27T10:02:25.908916",
     "status": "completed"
    },
    "tags": []
   },
   "outputs": [
    {
     "data": {
      "text/plain": [
       "0.7325171197343846"
      ]
     },
     "execution_count": 20,
     "metadata": {},
     "output_type": "execute_result"
    }
   ],
   "source": [
    "from sklearn.metrics import f1_score\n",
    "f1_score(y_train_5, y_train_pred)"
   ]
  },
  {
   "cell_type": "code",
   "execution_count": 21,
   "id": "26a21716",
   "metadata": {
    "execution": {
     "iopub.execute_input": "2022-08-27T10:02:25.970348Z",
     "iopub.status.busy": "2022-08-27T10:02:25.969823Z",
     "iopub.status.idle": "2022-08-27T10:02:25.977482Z",
     "shell.execute_reply": "2022-08-27T10:02:25.975922Z"
    },
    "papermill": {
     "duration": 0.022233,
     "end_time": "2022-08-27T10:02:25.979259",
     "exception": false,
     "start_time": "2022-08-27T10:02:25.957026",
     "status": "completed"
    },
    "tags": []
   },
   "outputs": [
    {
     "name": "stdout",
     "output_type": "stream",
     "text": [
      "[2164.22030239]\n",
      "[ True]\n",
      "[False]\n"
     ]
    },
    {
     "name": "stderr",
     "output_type": "stream",
     "text": [
      "/opt/conda/lib/python3.7/site-packages/sklearn/base.py:451: UserWarning: X does not have valid feature names, but SGDClassifier was fitted with feature names\n",
      "  \"X does not have valid feature names, but\"\n"
     ]
    }
   ],
   "source": [
    "y_scores = sgd_clf.decision_function([some_digit])\n",
    "print(y_scores)\n",
    "threshold = 0\n",
    "y_some_digit_pred = y_scores > threshold\n",
    "print(y_some_digit_pred)\n",
    "threshold = 8000\n",
    "y_some_digit_pred = y_scores > threshold\n",
    "print(y_some_digit_pred)"
   ]
  },
  {
   "cell_type": "code",
   "execution_count": 22,
   "id": "f32b4789",
   "metadata": {
    "execution": {
     "iopub.execute_input": "2022-08-27T10:02:26.004570Z",
     "iopub.status.busy": "2022-08-27T10:02:26.004082Z",
     "iopub.status.idle": "2022-08-27T10:02:53.482327Z",
     "shell.execute_reply": "2022-08-27T10:02:53.480799Z"
    },
    "papermill": {
     "duration": 27.495492,
     "end_time": "2022-08-27T10:02:53.486743",
     "exception": false,
     "start_time": "2022-08-27T10:02:25.991251",
     "status": "completed"
    },
    "tags": []
   },
   "outputs": [],
   "source": [
    "y_scores = cross_val_predict(sgd_clf, X_train, y_train_5, cv=3,method = 'decision_function')"
   ]
  },
  {
   "cell_type": "code",
   "execution_count": 23,
   "id": "a878f173",
   "metadata": {
    "execution": {
     "iopub.execute_input": "2022-08-27T10:02:53.552326Z",
     "iopub.status.busy": "2022-08-27T10:02:53.551803Z",
     "iopub.status.idle": "2022-08-27T10:02:53.565841Z",
     "shell.execute_reply": "2022-08-27T10:02:53.564645Z"
    },
    "papermill": {
     "duration": 0.050322,
     "end_time": "2022-08-27T10:02:53.569574",
     "exception": false,
     "start_time": "2022-08-27T10:02:53.519252",
     "status": "completed"
    },
    "tags": []
   },
   "outputs": [
    {
     "data": {
      "text/plain": [
       "array([  1200.93051237, -26883.79202424, -33072.03475406, ...,\n",
       "        13272.12718981,  -7258.47203373, -16877.50840447])"
      ]
     },
     "execution_count": 23,
     "metadata": {},
     "output_type": "execute_result"
    }
   ],
   "source": [
    "y_scores"
   ]
  },
  {
   "cell_type": "code",
   "execution_count": 24,
   "id": "19cc4b8a",
   "metadata": {
    "execution": {
     "iopub.execute_input": "2022-08-27T10:02:53.601418Z",
     "iopub.status.busy": "2022-08-27T10:02:53.601171Z",
     "iopub.status.idle": "2022-08-27T10:02:53.617135Z",
     "shell.execute_reply": "2022-08-27T10:02:53.616469Z"
    },
    "papermill": {
     "duration": 0.030515,
     "end_time": "2022-08-27T10:02:53.618984",
     "exception": false,
     "start_time": "2022-08-27T10:02:53.588469",
     "status": "completed"
    },
    "tags": []
   },
   "outputs": [],
   "source": [
    "from sklearn.metrics import precision_recall_curve\n",
    "\n",
    "precisions, recalls, thresholds = precision_recall_curve(y_train_5, y_scores)"
   ]
  },
  {
   "cell_type": "code",
   "execution_count": 25,
   "id": "c2219350",
   "metadata": {
    "execution": {
     "iopub.execute_input": "2022-08-27T10:02:53.644919Z",
     "iopub.status.busy": "2022-08-27T10:02:53.644401Z",
     "iopub.status.idle": "2022-08-27T10:02:54.050728Z",
     "shell.execute_reply": "2022-08-27T10:02:54.049793Z"
    },
    "papermill": {
     "duration": 0.42117,
     "end_time": "2022-08-27T10:02:54.052671",
     "exception": false,
     "start_time": "2022-08-27T10:02:53.631501",
     "status": "completed"
    },
    "tags": []
   },
   "outputs": [
    {
     "data": {
      "image/png": "[encoded data removed]",
      "text/plain": [
       "<Figure size 432x288 with 1 Axes>"
      ]
     },
     "metadata": {
      "needs_background": "light"
     },
     "output_type": "display_data"
    }
   ],
   "source": [
    "%matplotlib inline\n",
    "def plot_precision_recall_vs_threshold(precisions, recalls, thresholds):\n",
    "    plt.plot(thresholds, precisions[:-1], 'b--', label='precision')\n",
    "    plt.plot(thresholds, recalls[:-1], 'g-', label='recall')\n",
    "    plt.xlim(-50000,50000)\n",
    "    plt.xlabel('threshold')\n",
    "    plt.xticks([-40000,-20000,0,20000,40000], [-40000,-20000,0,20000,40000])\n",
    "    plt.yticks([0.,0.2,0.4,0.6,0.8,1.0],[0.,0.2,0.4,0.6,0.8,1.0])\n",
    "    plt.grid(True)\n",
    "    plt.legend()\n",
    "    plt.show()\n",
    "\n",
    "plot_precision_recall_vs_threshold(precisions, recalls, thresholds)"
   ]
  },
  {
   "cell_type": "code",
   "execution_count": 26,
   "id": "b5424043",
   "metadata": {
    "execution": {
     "iopub.execute_input": "2022-08-27T10:02:54.080085Z",
     "iopub.status.busy": "2022-08-27T10:02:54.079809Z",
     "iopub.status.idle": "2022-08-27T10:02:54.276243Z",
     "shell.execute_reply": "2022-08-27T10:02:54.275137Z"
    },
    "papermill": {
     "duration": 0.212709,
     "end_time": "2022-08-27T10:02:54.278978",
     "exception": false,
     "start_time": "2022-08-27T10:02:54.066269",
     "status": "completed"
    },
    "tags": []
   },
   "outputs": [
    {
     "data": {
      "image/png": "[encoded data removed]",
      "text/plain": [
       "<Figure size 432x288 with 1 Axes>"
      ]
     },
     "metadata": {
      "needs_background": "light"
     },
     "output_type": "display_data"
    }
   ],
   "source": [
    "plt.plot(recalls[:-1],precisions[:-1])\n",
    "plt.xlabel('recall')\n",
    "plt.ylabel('precision');"
   ]
  },
  {
   "cell_type": "code",
   "execution_count": 27,
   "id": "e6b829c0",
   "metadata": {
    "execution": {
     "iopub.execute_input": "2022-08-27T10:02:54.317006Z",
     "iopub.status.busy": "2022-08-27T10:02:54.316191Z",
     "iopub.status.idle": "2022-08-27T10:02:54.321522Z",
     "shell.execute_reply": "2022-08-27T10:02:54.320491Z"
    },
    "papermill": {
     "duration": 0.02833,
     "end_time": "2022-08-27T10:02:54.323802",
     "exception": false,
     "start_time": "2022-08-27T10:02:54.295472",
     "status": "completed"
    },
    "tags": []
   },
   "outputs": [],
   "source": [
    "threshold_90_precision = thresholds[np.argmax(precisions >= 0.90)]\n",
    "y_train_pred_90 = (y_scores >= threshold_90_precision)"
   ]
  },
  {
   "cell_type": "code",
   "execution_count": 28,
   "id": "4fa4195d",
   "metadata": {
    "execution": {
     "iopub.execute_input": "2022-08-27T10:02:54.357783Z",
     "iopub.status.busy": "2022-08-27T10:02:54.356933Z",
     "iopub.status.idle": "2022-08-27T10:02:54.395277Z",
     "shell.execute_reply": "2022-08-27T10:02:54.394041Z"
    },
    "papermill": {
     "duration": 0.057733,
     "end_time": "2022-08-27T10:02:54.397279",
     "exception": false,
     "start_time": "2022-08-27T10:02:54.339546",
     "status": "completed"
    },
    "tags": []
   },
   "outputs": [
    {
     "name": "stdout",
     "output_type": "stream",
     "text": [
      "0.9000345901072293\n",
      "0.4799852425751706\n"
     ]
    }
   ],
   "source": [
    "print(precision_score(y_train_5, y_train_pred_90))\n",
    "print(recall_score(y_train_5, y_train_pred_90))"
   ]
  },
  {
   "cell_type": "markdown",
   "id": "faf17652",
   "metadata": {
    "papermill": {
     "duration": 0.01261,
     "end_time": "2022-08-27T10:02:54.422865",
     "exception": false,
     "start_time": "2022-08-27T10:02:54.410255",
     "status": "completed"
    },
    "tags": []
   },
   "source": [
    "## ROC 곡선"
   ]
  },
  {
   "cell_type": "code",
   "execution_count": 29,
   "id": "ec353c8e",
   "metadata": {
    "execution": {
     "iopub.execute_input": "2022-08-27T10:02:54.449964Z",
     "iopub.status.busy": "2022-08-27T10:02:54.449216Z",
     "iopub.status.idle": "2022-08-27T10:02:54.464179Z",
     "shell.execute_reply": "2022-08-27T10:02:54.463541Z"
    },
    "papermill": {
     "duration": 0.03032,
     "end_time": "2022-08-27T10:02:54.466045",
     "exception": false,
     "start_time": "2022-08-27T10:02:54.435725",
     "status": "completed"
    },
    "tags": []
   },
   "outputs": [],
   "source": [
    "from sklearn.metrics import roc_curve\n",
    "\n",
    "fpr, tpr, thresholds = roc_curve(y_train_5, y_scores)"
   ]
  },
  {
   "cell_type": "code",
   "execution_count": 30,
   "id": "654f63e8",
   "metadata": {
    "execution": {
     "iopub.execute_input": "2022-08-27T10:02:54.492831Z",
     "iopub.status.busy": "2022-08-27T10:02:54.492136Z",
     "iopub.status.idle": "2022-08-27T10:02:54.665719Z",
     "shell.execute_reply": "2022-08-27T10:02:54.664770Z"
    },
    "papermill": {
     "duration": 0.18903,
     "end_time": "2022-08-27T10:02:54.667737",
     "exception": false,
     "start_time": "2022-08-27T10:02:54.478707",
     "status": "completed"
    },
    "tags": []
   },
   "outputs": [
    {
     "data": {
      "image/png": "[encoded data removed]",
      "text/plain": [
       "<Figure size 432x288 with 1 Axes>"
      ]
     },
     "metadata": {
      "needs_background": "light"
     },
     "output_type": "display_data"
    }
   ],
   "source": [
    "def plot_roc_curve(fpr, tpr, label=None):\n",
    "    plt.plot(fpr, tpr, linewidth = 2, label= label)\n",
    "    plt.plot([0,1], [0,1], 'k--') # 대각 점선\n",
    "    plt.xlabel('fpr')\n",
    "    plt.ylabel('tpr')\n",
    "    plt.grid(True)\n",
    "    plt.show()\n",
    "\n",
    "plot_roc_curve(fpr, tpr)"
   ]
  },
  {
   "cell_type": "code",
   "execution_count": 31,
   "id": "a704a6e3",
   "metadata": {
    "execution": {
     "iopub.execute_input": "2022-08-27T10:02:54.696101Z",
     "iopub.status.busy": "2022-08-27T10:02:54.695775Z",
     "iopub.status.idle": "2022-08-27T10:02:54.720137Z",
     "shell.execute_reply": "2022-08-27T10:02:54.719041Z"
    },
    "papermill": {
     "duration": 0.040759,
     "end_time": "2022-08-27T10:02:54.722217",
     "exception": false,
     "start_time": "2022-08-27T10:02:54.681458",
     "status": "completed"
    },
    "tags": []
   },
   "outputs": [
    {
     "data": {
      "text/plain": [
       "0.9604938554008616"
      ]
     },
     "execution_count": 31,
     "metadata": {},
     "output_type": "execute_result"
    }
   ],
   "source": [
    "from sklearn.metrics import roc_auc_score\n",
    "roc_auc_score(y_train_5, y_scores)"
   ]
  },
  {
   "cell_type": "code",
   "execution_count": 32,
   "id": "b0658293",
   "metadata": {
    "execution": {
     "iopub.execute_input": "2022-08-27T10:02:54.750752Z",
     "iopub.status.busy": "2022-08-27T10:02:54.750078Z",
     "iopub.status.idle": "2022-08-27T10:03:57.171404Z",
     "shell.execute_reply": "2022-08-27T10:03:57.170355Z"
    },
    "papermill": {
     "duration": 62.438087,
     "end_time": "2022-08-27T10:03:57.174019",
     "exception": false,
     "start_time": "2022-08-27T10:02:54.735932",
     "status": "completed"
    },
    "tags": []
   },
   "outputs": [],
   "source": [
    "from sklearn.ensemble import RandomForestClassifier\n",
    "forest_clf = RandomForestClassifier(random_state = 42)\n",
    "y_probas_forest = cross_val_predict(forest_clf, X_train, y_train_5, cv = 3, method = 'predict_proba')"
   ]
  },
  {
   "cell_type": "code",
   "execution_count": 33,
   "id": "5774e7f1",
   "metadata": {
    "execution": {
     "iopub.execute_input": "2022-08-27T10:03:57.202751Z",
     "iopub.status.busy": "2022-08-27T10:03:57.202405Z",
     "iopub.status.idle": "2022-08-27T10:03:57.208867Z",
     "shell.execute_reply": "2022-08-27T10:03:57.208231Z"
    },
    "papermill": {
     "duration": 0.022623,
     "end_time": "2022-08-27T10:03:57.210695",
     "exception": false,
     "start_time": "2022-08-27T10:03:57.188072",
     "status": "completed"
    },
    "tags": []
   },
   "outputs": [
    {
     "data": {
      "text/plain": [
       "array([[0.11, 0.89],\n",
       "       [0.99, 0.01],\n",
       "       [0.96, 0.04],\n",
       "       ...,\n",
       "       [0.02, 0.98],\n",
       "       [0.92, 0.08],\n",
       "       [0.94, 0.06]])"
      ]
     },
     "execution_count": 33,
     "metadata": {},
     "output_type": "execute_result"
    }
   ],
   "source": [
    "y_probas_forest"
   ]
  },
  {
   "cell_type": "code",
   "execution_count": 34,
   "id": "bc3f7346",
   "metadata": {
    "execution": {
     "iopub.execute_input": "2022-08-27T10:03:57.238763Z",
     "iopub.status.busy": "2022-08-27T10:03:57.238266Z",
     "iopub.status.idle": "2022-08-27T10:03:57.248971Z",
     "shell.execute_reply": "2022-08-27T10:03:57.248401Z"
    },
    "papermill": {
     "duration": 0.026908,
     "end_time": "2022-08-27T10:03:57.250828",
     "exception": false,
     "start_time": "2022-08-27T10:03:57.223920",
     "status": "completed"
    },
    "tags": []
   },
   "outputs": [],
   "source": [
    "y_scores_forest = y_probas_forest[:, 1]\n",
    "fpr_forest, tpr_forest, thresholds_forest = roc_curve(y_train_5,y_scores_forest)"
   ]
  },
  {
   "cell_type": "code",
   "execution_count": 35,
   "id": "cc43d598",
   "metadata": {
    "execution": {
     "iopub.execute_input": "2022-08-27T10:03:57.278408Z",
     "iopub.status.busy": "2022-08-27T10:03:57.277985Z",
     "iopub.status.idle": "2022-08-27T10:03:57.454353Z",
     "shell.execute_reply": "2022-08-27T10:03:57.453448Z"
    },
    "papermill": {
     "duration": 0.192478,
     "end_time": "2022-08-27T10:03:57.456423",
     "exception": false,
     "start_time": "2022-08-27T10:03:57.263945",
     "status": "completed"
    },
    "tags": []
   },
   "outputs": [
    {
     "data": {
      "image/png": "[encoded data removed]",
      "text/plain": [
       "<Figure size 432x288 with 1 Axes>"
      ]
     },
     "metadata": {
      "needs_background": "light"
     },
     "output_type": "display_data"
    }
   ],
   "source": [
    "plt.plot(fpr, tpr, 'b:', label='SGD')\n",
    "plot_roc_curve(fpr_forest, tpr_forest, 'RandomForest')"
   ]
  },
  {
   "cell_type": "code",
   "execution_count": 36,
   "id": "0391ee4b",
   "metadata": {
    "execution": {
     "iopub.execute_input": "2022-08-27T10:03:57.485395Z",
     "iopub.status.busy": "2022-08-27T10:03:57.485088Z",
     "iopub.status.idle": "2022-08-27T10:03:57.503341Z",
     "shell.execute_reply": "2022-08-27T10:03:57.502713Z"
    },
    "papermill": {
     "duration": 0.034636,
     "end_time": "2022-08-27T10:03:57.505306",
     "exception": false,
     "start_time": "2022-08-27T10:03:57.470670",
     "status": "completed"
    },
    "tags": []
   },
   "outputs": [
    {
     "data": {
      "text/plain": [
       "0.9983436731328145"
      ]
     },
     "execution_count": 36,
     "metadata": {},
     "output_type": "execute_result"
    }
   ],
   "source": [
    "roc_auc_score(y_train_5, y_scores_forest)"
   ]
  },
  {
   "cell_type": "code",
   "execution_count": 37,
   "id": "d85ac6ce",
   "metadata": {
    "execution": {
     "iopub.execute_input": "2022-08-27T10:03:57.533943Z",
     "iopub.status.busy": "2022-08-27T10:03:57.533402Z",
     "iopub.status.idle": "2022-08-27T10:07:28.983730Z",
     "shell.execute_reply": "2022-08-27T10:07:28.982755Z"
    },
    "papermill": {
     "duration": 211.482487,
     "end_time": "2022-08-27T10:07:29.001178",
     "exception": false,
     "start_time": "2022-08-27T10:03:57.518691",
     "status": "completed"
    },
    "tags": []
   },
   "outputs": [
    {
     "name": "stderr",
     "output_type": "stream",
     "text": [
      "/opt/conda/lib/python3.7/site-packages/sklearn/base.py:451: UserWarning: X does not have valid feature names, but SVC was fitted with feature names\n",
      "  \"X does not have valid feature names, but\"\n"
     ]
    },
    {
     "data": {
      "text/plain": [
       "array([5], dtype=uint8)"
      ]
     },
     "execution_count": 37,
     "metadata": {},
     "output_type": "execute_result"
    }
   ],
   "source": [
    "from sklearn.svm import SVC\n",
    "svm_clf = SVC()\n",
    "svm_clf.fit(X_train, y_train)\n",
    "svm_clf.predict([some_digit])"
   ]
  },
  {
   "cell_type": "code",
   "execution_count": 38,
   "id": "06ee3b97",
   "metadata": {
    "execution": {
     "iopub.execute_input": "2022-08-27T10:07:29.030934Z",
     "iopub.status.busy": "2022-08-27T10:07:29.030617Z",
     "iopub.status.idle": "2022-08-27T10:07:29.048493Z",
     "shell.execute_reply": "2022-08-27T10:07:29.047394Z"
    },
    "papermill": {
     "duration": 0.035055,
     "end_time": "2022-08-27T10:07:29.050672",
     "exception": false,
     "start_time": "2022-08-27T10:07:29.015617",
     "status": "completed"
    },
    "tags": []
   },
   "outputs": [
    {
     "name": "stdout",
     "output_type": "stream",
     "text": [
      "[[ 1.72501977  2.72809088  7.2510018   8.3076379  -0.31087254  9.3132482\n",
      "   1.70975103  2.76765202  6.23049537  4.84771048]]\n"
     ]
    },
    {
     "name": "stderr",
     "output_type": "stream",
     "text": [
      "/opt/conda/lib/python3.7/site-packages/sklearn/base.py:451: UserWarning: X does not have valid feature names, but SVC was fitted with feature names\n",
      "  \"X does not have valid feature names, but\"\n"
     ]
    }
   ],
   "source": [
    "some_digit_scores = svm_clf.decision_function([some_digit])\n",
    "print(some_digit_scores)"
   ]
  },
  {
   "cell_type": "code",
   "execution_count": 39,
   "id": "b1a53fba",
   "metadata": {
    "execution": {
     "iopub.execute_input": "2022-08-27T10:07:29.079283Z",
     "iopub.status.busy": "2022-08-27T10:07:29.079000Z",
     "iopub.status.idle": "2022-08-27T10:07:29.083373Z",
     "shell.execute_reply": "2022-08-27T10:07:29.082573Z"
    },
    "papermill": {
     "duration": 0.021076,
     "end_time": "2022-08-27T10:07:29.085380",
     "exception": false,
     "start_time": "2022-08-27T10:07:29.064304",
     "status": "completed"
    },
    "tags": []
   },
   "outputs": [
    {
     "name": "stdout",
     "output_type": "stream",
     "text": [
      "5\n",
      "[0 1 2 3 4 5 6 7 8 9]\n",
      "5\n"
     ]
    }
   ],
   "source": [
    "print(np.argmax(some_digit_scores))\n",
    "print(svm_clf.classes_)\n",
    "print(svm_clf.classes_[5])"
   ]
  },
  {
   "cell_type": "code",
   "execution_count": 40,
   "id": "8e04170e",
   "metadata": {
    "execution": {
     "iopub.execute_input": "2022-08-27T10:07:29.114277Z",
     "iopub.status.busy": "2022-08-27T10:07:29.113863Z",
     "iopub.status.idle": "2022-08-27T10:32:19.249844Z",
     "shell.execute_reply": "2022-08-27T10:32:19.248594Z"
    },
    "papermill": {
     "duration": 1490.169405,
     "end_time": "2022-08-27T10:32:19.268808",
     "exception": false,
     "start_time": "2022-08-27T10:07:29.099403",
     "status": "completed"
    },
    "tags": []
   },
   "outputs": [
    {
     "name": "stdout",
     "output_type": "stream",
     "text": [
      "[5]\n",
      "10\n"
     ]
    },
    {
     "name": "stderr",
     "output_type": "stream",
     "text": [
      "/opt/conda/lib/python3.7/site-packages/sklearn/base.py:451: UserWarning: X does not have valid feature names, but SVC was fitted with feature names\n",
      "  \"X does not have valid feature names, but\"\n",
      "/opt/conda/lib/python3.7/site-packages/sklearn/base.py:451: UserWarning: X does not have valid feature names, but SVC was fitted with feature names\n",
      "  \"X does not have valid feature names, but\"\n",
      "/opt/conda/lib/python3.7/site-packages/sklearn/base.py:451: UserWarning: X does not have valid feature names, but SVC was fitted with feature names\n",
      "  \"X does not have valid feature names, but\"\n",
      "/opt/conda/lib/python3.7/site-packages/sklearn/base.py:451: UserWarning: X does not have valid feature names, but SVC was fitted with feature names\n",
      "  \"X does not have valid feature names, but\"\n",
      "/opt/conda/lib/python3.7/site-packages/sklearn/base.py:451: UserWarning: X does not have valid feature names, but SVC was fitted with feature names\n",
      "  \"X does not have valid feature names, but\"\n",
      "/opt/conda/lib/python3.7/site-packages/sklearn/base.py:451: UserWarning: X does not have valid feature names, but SVC was fitted with feature names\n",
      "  \"X does not have valid feature names, but\"\n",
      "/opt/conda/lib/python3.7/site-packages/sklearn/base.py:451: UserWarning: X does not have valid feature names, but SVC was fitted with feature names\n",
      "  \"X does not have valid feature names, but\"\n",
      "/opt/conda/lib/python3.7/site-packages/sklearn/base.py:451: UserWarning: X does not have valid feature names, but SVC was fitted with feature names\n",
      "  \"X does not have valid feature names, but\"\n",
      "/opt/conda/lib/python3.7/site-packages/sklearn/base.py:451: UserWarning: X does not have valid feature names, but SVC was fitted with feature names\n",
      "  \"X does not have valid feature names, but\"\n",
      "/opt/conda/lib/python3.7/site-packages/sklearn/base.py:451: UserWarning: X does not have valid feature names, but SVC was fitted with feature names\n",
      "  \"X does not have valid feature names, but\"\n"
     ]
    }
   ],
   "source": [
    "from sklearn.multiclass import OneVsRestClassifier\n",
    "ovr_clf = OneVsRestClassifier(SVC())\n",
    "ovr_clf.fit(X_train, y_train)\n",
    "print(ovr_clf.predict([some_digit]))\n",
    "print(len(ovr_clf.estimators_))"
   ]
  },
  {
   "cell_type": "code",
   "execution_count": 41,
   "id": "c11c4e1d",
   "metadata": {
    "execution": {
     "iopub.execute_input": "2022-08-27T10:32:19.298683Z",
     "iopub.status.busy": "2022-08-27T10:32:19.298057Z",
     "iopub.status.idle": "2022-08-27T10:35:08.929617Z",
     "shell.execute_reply": "2022-08-27T10:35:08.928615Z"
    },
    "papermill": {
     "duration": 169.662671,
     "end_time": "2022-08-27T10:35:08.945565",
     "exception": false,
     "start_time": "2022-08-27T10:32:19.282894",
     "status": "completed"
    },
    "tags": []
   },
   "outputs": [
    {
     "name": "stderr",
     "output_type": "stream",
     "text": [
      "/opt/conda/lib/python3.7/site-packages/sklearn/base.py:451: UserWarning: X does not have valid feature names, but SGDClassifier was fitted with feature names\n",
      "  \"X does not have valid feature names, but\"\n"
     ]
    },
    {
     "data": {
      "text/plain": [
       "array([3], dtype=uint8)"
      ]
     },
     "execution_count": 41,
     "metadata": {},
     "output_type": "execute_result"
    }
   ],
   "source": [
    "sgd_clf.fit(X_train, y_train)\n",
    "sgd_clf.predict([some_digit])"
   ]
  },
  {
   "cell_type": "code",
   "execution_count": 42,
   "id": "95d19ba3",
   "metadata": {
    "execution": {
     "iopub.execute_input": "2022-08-27T10:35:08.975348Z",
     "iopub.status.busy": "2022-08-27T10:35:08.974833Z",
     "iopub.status.idle": "2022-08-27T10:35:08.982355Z",
     "shell.execute_reply": "2022-08-27T10:35:08.981185Z"
    },
    "papermill": {
     "duration": 0.024837,
     "end_time": "2022-08-27T10:35:08.984574",
     "exception": false,
     "start_time": "2022-08-27T10:35:08.959737",
     "status": "completed"
    },
    "tags": []
   },
   "outputs": [
    {
     "name": "stderr",
     "output_type": "stream",
     "text": [
      "/opt/conda/lib/python3.7/site-packages/sklearn/base.py:451: UserWarning: X does not have valid feature names, but SGDClassifier was fitted with feature names\n",
      "  \"X does not have valid feature names, but\"\n"
     ]
    },
    {
     "data": {
      "text/plain": [
       "array([[-31893.03095419, -34419.69069632,  -9530.63950739,\n",
       "          1823.73154031, -22320.14822878,  -1385.80478895,\n",
       "        -26188.91070951, -16147.51323997,  -4604.35491274,\n",
       "        -12050.767298  ]])"
      ]
     },
     "execution_count": 42,
     "metadata": {},
     "output_type": "execute_result"
    }
   ],
   "source": [
    "sgd_clf.decision_function([some_digit])"
   ]
  },
  {
   "cell_type": "code",
   "execution_count": 43,
   "id": "5fccc4b7",
   "metadata": {
    "execution": {
     "iopub.execute_input": "2022-08-27T10:35:09.015128Z",
     "iopub.status.busy": "2022-08-27T10:35:09.014310Z",
     "iopub.status.idle": "2022-08-27T10:39:45.829143Z",
     "shell.execute_reply": "2022-08-27T10:39:45.827843Z"
    },
    "papermill": {
     "duration": 276.871194,
     "end_time": "2022-08-27T10:39:45.870237",
     "exception": false,
     "start_time": "2022-08-27T10:35:08.999043",
     "status": "completed"
    },
    "tags": []
   },
   "outputs": [
    {
     "data": {
      "text/plain": [
       "array([0.87365, 0.85835, 0.8689 ])"
      ]
     },
     "execution_count": 43,
     "metadata": {},
     "output_type": "execute_result"
    }
   ],
   "source": [
    "cross_val_score(sgd_clf, X_train, y_train, cv=3, scoring = 'accuracy')"
   ]
  },
  {
   "cell_type": "code",
   "execution_count": 44,
   "id": "a668922e",
   "metadata": {
    "execution": {
     "iopub.execute_input": "2022-08-27T10:39:45.941003Z",
     "iopub.status.busy": "2022-08-27T10:39:45.940718Z",
     "iopub.status.idle": "2022-08-27T10:51:57.974701Z",
     "shell.execute_reply": "2022-08-27T10:51:57.973430Z"
    },
    "papermill": {
     "duration": 732.20925,
     "end_time": "2022-08-27T10:51:58.116772",
     "exception": false,
     "start_time": "2022-08-27T10:39:45.907522",
     "status": "completed"
    },
    "tags": []
   },
   "outputs": [
    {
     "data": {
      "text/plain": [
       "array([0.8983, 0.891 , 0.9018])"
      ]
     },
     "execution_count": 44,
     "metadata": {},
     "output_type": "execute_result"
    }
   ],
   "source": [
    "from sklearn.preprocessing import StandardScaler\n",
    "scaler = StandardScaler()\n",
    "X_train_scaled = scaler.fit_transform(X_train.astype(np.float64))\n",
    "cross_val_score(sgd_clf, X_train_scaled, y_train, cv=3, scoring='accuracy')"
   ]
  },
  {
   "cell_type": "code",
   "execution_count": 45,
   "id": "94c7c839",
   "metadata": {
    "execution": {
     "iopub.execute_input": "2022-08-27T10:51:58.150151Z",
     "iopub.status.busy": "2022-08-27T10:51:58.149805Z",
     "iopub.status.idle": "2022-08-27T11:04:07.208647Z",
     "shell.execute_reply": "2022-08-27T11:04:07.198791Z"
    },
    "papermill": {
     "duration": 729.113274,
     "end_time": "2022-08-27T11:04:07.246339",
     "exception": false,
     "start_time": "2022-08-27T10:51:58.133065",
     "status": "completed"
    },
    "tags": []
   },
   "outputs": [
    {
     "name": "stdout",
     "output_type": "stream",
     "text": [
      "[[5577    0   22    5    8   43   36    6  225    1]\n",
      " [   0 6400   37   24    4   44    4    7  212   10]\n",
      " [  27   27 5220   92   73   27   67   36  378   11]\n",
      " [  22   17  117 5227    2  203   27   40  403   73]\n",
      " [  12   14   41    9 5182   12   34   27  347  164]\n",
      " [  27   15   30  168   53 4444   75   14  535   60]\n",
      " [  30   15   42    3   44   97 5552    3  131    1]\n",
      " [  21   10   51   30   49   12    3 5684  195  210]\n",
      " [  17   63   48   86    3  126   25   10 5429   44]\n",
      " [  25   18   30   64  118   36    1  179  371 5107]]\n"
     ]
    }
   ],
   "source": [
    "y_train_pred = cross_val_predict(sgd_clf, X_train_scaled, y_train, cv=3)\n",
    "conf_mx = confusion_matrix(y_train, y_train_pred)\n",
    "print(conf_mx)"
   ]
  },
  {
   "cell_type": "code",
   "execution_count": 46,
   "id": "59fc5c78",
   "metadata": {
    "execution": {
     "iopub.execute_input": "2022-08-27T11:04:07.306148Z",
     "iopub.status.busy": "2022-08-27T11:04:07.305748Z",
     "iopub.status.idle": "2022-08-27T11:04:07.543721Z",
     "shell.execute_reply": "2022-08-27T11:04:07.542480Z"
    },
    "papermill": {
     "duration": 0.262329,
     "end_time": "2022-08-27T11:04:07.547168",
     "exception": false,
     "start_time": "2022-08-27T11:04:07.284839",
     "status": "completed"
    },
    "tags": []
   },
   "outputs": [
    {
     "data": {
      "image/png": "[encoded data removed]",
      "text/plain": [
       "<Figure size 288x288 with 1 Axes>"
      ]
     },
     "metadata": {
      "needs_background": "light"
     },
     "output_type": "display_data"
    }
   ],
   "source": [
    "plt.matshow(conf_mx, cmap = plt.cm.gray)\n",
    "plt.show()"
   ]
  },
  {
   "cell_type": "code",
   "execution_count": 47,
   "id": "8c4730c1",
   "metadata": {
    "execution": {
     "iopub.execute_input": "2022-08-27T11:04:07.616640Z",
     "iopub.status.busy": "2022-08-27T11:04:07.615909Z",
     "iopub.status.idle": "2022-08-27T11:04:08.036408Z",
     "shell.execute_reply": "2022-08-27T11:04:08.035144Z"
    },
    "papermill": {
     "duration": 0.452769,
     "end_time": "2022-08-27T11:04:08.039743",
     "exception": false,
     "start_time": "2022-08-27T11:04:07.586974",
     "status": "completed"
    },
    "tags": []
   },
   "outputs": [
    {
     "data": {
      "image/png": "[encoded data removed]",
      "text/plain": [
       "<Figure size 288x288 with 1 Axes>"
      ]
     },
     "metadata": {
      "needs_background": "light"
     },
     "output_type": "display_data"
    },
    {
     "data": {
      "image/png": "[encoded data removed]",
      "text/plain": [
       "<Figure size 288x288 with 1 Axes>"
      ]
     },
     "metadata": {
      "needs_background": "light"
     },
     "output_type": "display_data"
    }
   ],
   "source": [
    "row_sums = conf_mx.sum(axis=1, keepdims=True)\n",
    "norm_conf_mx = conf_mx / row_sums\n",
    "np.fill_diagonal(norm_conf_mx, 0)\n",
    "plt.matshow(norm_conf_mx, cmap = plt.cm.gray)\n",
    "plt.show(())"
   ]
  },
  {
   "cell_type": "code",
   "execution_count": 48,
   "id": "8af5d445",
   "metadata": {
    "execution": {
     "iopub.execute_input": "2022-08-27T11:04:08.111041Z",
     "iopub.status.busy": "2022-08-27T11:04:08.110580Z",
     "iopub.status.idle": "2022-08-27T11:04:08.117104Z",
     "shell.execute_reply": "2022-08-27T11:04:08.116481Z"
    },
    "papermill": {
     "duration": 0.038352,
     "end_time": "2022-08-27T11:04:08.118864",
     "exception": false,
     "start_time": "2022-08-27T11:04:08.080512",
     "status": "completed"
    },
    "tags": []
   },
   "outputs": [],
   "source": [
    "# 숫자 그림을 위한 추가 함수\n",
    "def plot_digits(instances, images_per_row=10, **options):\n",
    "    size = 28\n",
    "    images_per_row = min(len(instances), images_per_row)\n",
    "    # n_rows = ceil(len(instances) / images_per_row) 와 동일합니다:\n",
    "    n_rows = (len(instances) - 1) // images_per_row + 1\n",
    "\n",
    "    # 필요하면 그리드 끝을 채우기 위해 빈 이미지를 추가합니다:\n",
    "    n_empty = n_rows * images_per_row - len(instances)\n",
    "    padded_instances = np.concatenate([instances, np.zeros((n_empty, size * size))], axis=0)\n",
    "\n",
    "    # 배열의 크기를 바꾸어 28×28 이미지를 담은 그리드로 구성합니다:\n",
    "    image_grid = padded_instances.reshape((n_rows, images_per_row, size, size))\n",
    "\n",
    "    # 축 0(이미지 그리드의 수직축)과 2(이미지의 수직축)를 합치고 축 1과 3(두 수평축)을 합칩니다. \n",
    "    # 먼저 transpose()를 사용해 결합하려는 축을 옆으로 이동한 다음 합칩니다:\n",
    "    big_image = image_grid.transpose(0, 2, 1, 3).reshape(n_rows * size,\n",
    "                                                         images_per_row * size)\n",
    "    # 하나의 큰 이미지를 얻었으므로 출력하면 됩니다:\n",
    "    plt.imshow(big_image, cmap = mpl.cm.binary, **options)\n",
    "    plt.axis(\"off\")"
   ]
  },
  {
   "cell_type": "code",
   "execution_count": 49,
   "id": "1bfade80",
   "metadata": {
    "execution": {
     "iopub.execute_input": "2022-08-27T11:04:08.154312Z",
     "iopub.status.busy": "2022-08-27T11:04:08.153843Z",
     "iopub.status.idle": "2022-08-27T11:04:08.510946Z",
     "shell.execute_reply": "2022-08-27T11:04:08.510006Z"
    },
    "papermill": {
     "duration": 0.378654,
     "end_time": "2022-08-27T11:04:08.514343",
     "exception": false,
     "start_time": "2022-08-27T11:04:08.135689",
     "status": "completed"
    },
    "tags": []
   },
   "outputs": [
    {
     "data": {
      "image/png": "[encoded data removed]",
      "text/plain": [
       "<Figure size 576x576 with 4 Axes>"
      ]
     },
     "metadata": {
      "needs_background": "light"
     },
     "output_type": "display_data"
    }
   ],
   "source": [
    "cl_a, cl_b = 3, 5\n",
    "X_aa = X_train[(y_train == cl_a) & (y_train_pred == cl_a)]\n",
    "X_ab = X_train[(y_train == cl_a) & (y_train_pred == cl_b)]\n",
    "X_ba = X_train[(y_train == cl_b) & (y_train_pred == cl_a)]\n",
    "X_bb = X_train[(y_train == cl_b) & (y_train_pred == cl_b)]\n",
    "\n",
    "plt.figure(figsize=(8, 8))\n",
    "plt.subplot(221); plot_digits(X_aa[:25], images_per_row = 5)\n",
    "plt.subplot(222); plot_digits(X_ab[:25], images_per_row = 5)\n",
    "plt.subplot(223); plot_digits(X_ba[:25], images_per_row = 5)\n",
    "plt.subplot(224); plot_digits(X_bb[:25], images_per_row = 5)\n",
    "plt.show()"
   ]
  },
  {
   "cell_type": "code",
   "execution_count": 50,
   "id": "c91fa18a",
   "metadata": {
    "execution": {
     "iopub.execute_input": "2022-08-27T11:04:08.552520Z",
     "iopub.status.busy": "2022-08-27T11:04:08.551862Z",
     "iopub.status.idle": "2022-08-27T11:04:08.606895Z",
     "shell.execute_reply": "2022-08-27T11:04:08.605843Z"
    },
    "papermill": {
     "duration": 0.076389,
     "end_time": "2022-08-27T11:04:08.609100",
     "exception": false,
     "start_time": "2022-08-27T11:04:08.532711",
     "status": "completed"
    },
    "tags": []
   },
   "outputs": [
    {
     "data": {
      "text/plain": [
       "KNeighborsClassifier()"
      ]
     },
     "execution_count": 50,
     "metadata": {},
     "output_type": "execute_result"
    }
   ],
   "source": [
    "from sklearn.neighbors import KNeighborsClassifier\n",
    "\n",
    "y_train_large = (y_train >= 7)\n",
    "y_train_odd = (y_train % 2 == 1)\n",
    "y_multilabel = np.c_[y_train_large, y_train_odd]\n",
    "\n",
    "knn_clf = KNeighborsClassifier()\n",
    "knn_clf.fit(X_train, y_multilabel)"
   ]
  },
  {
   "cell_type": "code",
   "execution_count": 51,
   "id": "119640de",
   "metadata": {
    "execution": {
     "iopub.execute_input": "2022-08-27T11:04:08.646469Z",
     "iopub.status.busy": "2022-08-27T11:04:08.645566Z",
     "iopub.status.idle": "2022-08-27T11:04:08.754340Z",
     "shell.execute_reply": "2022-08-27T11:04:08.753238Z"
    },
    "papermill": {
     "duration": 0.133429,
     "end_time": "2022-08-27T11:04:08.760627",
     "exception": false,
     "start_time": "2022-08-27T11:04:08.627198",
     "status": "completed"
    },
    "tags": []
   },
   "outputs": [
    {
     "name": "stderr",
     "output_type": "stream",
     "text": [
      "/opt/conda/lib/python3.7/site-packages/sklearn/base.py:451: UserWarning: X does not have valid feature names, but KNeighborsClassifier was fitted with feature names\n",
      "  \"X does not have valid feature names, but\"\n"
     ]
    },
    {
     "data": {
      "text/plain": [
       "array([[False,  True]])"
      ]
     },
     "execution_count": 51,
     "metadata": {},
     "output_type": "execute_result"
    }
   ],
   "source": [
    "knn_clf.predict([some_digit])"
   ]
  },
  {
   "cell_type": "code",
   "execution_count": 52,
   "id": "c3451f21",
   "metadata": {
    "execution": {
     "iopub.execute_input": "2022-08-27T11:04:08.854688Z",
     "iopub.status.busy": "2022-08-27T11:04:08.853999Z",
     "iopub.status.idle": "2022-08-27T11:05:43.878425Z",
     "shell.execute_reply": "2022-08-27T11:05:43.877370Z"
    },
    "papermill": {
     "duration": 95.092373,
     "end_time": "2022-08-27T11:05:43.898381",
     "exception": false,
     "start_time": "2022-08-27T11:04:08.806008",
     "status": "completed"
    },
    "tags": []
   },
   "outputs": [
    {
     "data": {
      "text/plain": [
       "0.976410265560605"
      ]
     },
     "execution_count": 52,
     "metadata": {},
     "output_type": "execute_result"
    }
   ],
   "source": [
    "y_train_knn_pred = cross_val_predict(knn_clf, X_train, y_multilabel, cv=3)\n",
    "f1_score(y_multilabel, y_train_knn_pred, average = 'macro')"
   ]
  },
  {
   "cell_type": "code",
   "execution_count": 53,
   "id": "7fe8207e",
   "metadata": {
    "execution": {
     "iopub.execute_input": "2022-08-27T11:05:43.934251Z",
     "iopub.status.busy": "2022-08-27T11:05:43.933955Z",
     "iopub.status.idle": "2022-08-27T11:05:44.826361Z",
     "shell.execute_reply": "2022-08-27T11:05:44.825346Z"
    },
    "papermill": {
     "duration": 0.913395,
     "end_time": "2022-08-27T11:05:44.829118",
     "exception": false,
     "start_time": "2022-08-27T11:05:43.915723",
     "status": "completed"
    },
    "tags": []
   },
   "outputs": [],
   "source": [
    "noise = np.random.randint(0, 100, (len(X_train), 784))\n",
    "X_train_mod = X_train + noise\n",
    "noise = np.random.randint(0, 100, (len(X_test), 784))\n",
    "X_test_mod = X_test + noise\n",
    "y_train_mod = X_train\n",
    "y_test_mod = X_test"
   ]
  },
  {
   "cell_type": "code",
   "execution_count": 54,
   "id": "b1585044",
   "metadata": {
    "execution": {
     "iopub.execute_input": "2022-08-27T11:05:44.865961Z",
     "iopub.status.busy": "2022-08-27T11:05:44.865669Z",
     "iopub.status.idle": "2022-08-27T11:05:44.870089Z",
     "shell.execute_reply": "2022-08-27T11:05:44.869144Z"
    },
    "papermill": {
     "duration": 0.024734,
     "end_time": "2022-08-27T11:05:44.871935",
     "exception": false,
     "start_time": "2022-08-27T11:05:44.847201",
     "status": "completed"
    },
    "tags": []
   },
   "outputs": [],
   "source": [
    "def plot_digit(data):\n",
    "    image = data.reshape(28, 28)\n",
    "    plt.imshow(image, cmap = mpl.cm.binary,\n",
    "               interpolation=\"nearest\")\n",
    "    plt.axis(\"off\")"
   ]
  }
 ],
 "metadata": {
  "kernelspec": {
   "display_name": "Python 3",
   "language": "python",
   "name": "python3"
  },
  "language_info": {
   "codemirror_mode": {
    "name": "ipython",
    "version": 3
   },
   "file_extension": ".py",
   "mimetype": "text/x-python",
   "name": "python",
   "nbconvert_exporter": "python",
   "pygments_lexer": "ipython3",
   "version": "3.7.12"
  },
  "papermill": {
   "default_parameters": {},
   "duration": 3969.322079,
   "end_time": "2022-08-27T11:05:45.513917",
   "environment_variables": {},
   "exception": null,
   "input_path": "__notebook__.ipynb",
   "output_path": "__notebook__.ipynb",
   "parameters": {},
   "start_time": "2022-08-27T09:59:36.191838",
   "version": "2.3.4"
  }
 },
 "nbformat": 4,
 "nbformat_minor": 5
}
